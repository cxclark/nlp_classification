{
 "cells": [
  {
   "cell_type": "markdown",
   "metadata": {},
   "source": [
    "# Subreddit Classification Using Language Processing\n",
    "## Part 4 of 4: Modeling"
   ]
  },
  {
   "cell_type": "markdown",
   "metadata": {},
   "source": [
    "#### Notebooks\n",
    "- [01_data_collection](./01_data_collection.ipynb)\n",
    "- [02_eda_and_cleaning](./02_eda_and_cleaning.ipynb)\n",
    "- [03_visualizing](./03_visualizing.ipynb)\n",
    "- [04_modeling](./04_modeling.ipynb)\n",
    "\n",
    "#### This Notebook's Contents\n",
    "- [Model Setup](#Model-Setup)\n",
    "- [Multinomial Naive Bayes](#Multinomial-Naive-Bayes)\n",
    "- [Logistic Regression](#Logistic-Regression)\n",
    "- [Logistic Regression Coefficients](#Logistic-Regression-Coefficients)\n",
    "- [Conclusions](#Conclusions)\n",
    "\n",
    "*NOTE: 'Data Science' may be abbrebiated to DS below. 'Artificial Intelligence' may be abbreviated to AI below.*"
   ]
  },
  {
   "cell_type": "markdown",
   "metadata": {},
   "source": [
    "# Model Setup"
   ]
  },
  {
   "cell_type": "code",
   "execution_count": 1,
   "metadata": {},
   "outputs": [],
   "source": [
    "# Import required libraries.\n",
    "import pandas as pd\n",
    "import numpy as np\n",
    "import matplotlib.pyplot as plt\n",
    "import seaborn as sns\n",
    "plt.style.use('seaborn-whitegrid')\n",
    "\n",
    "from sklearn.pipeline import make_pipeline\n",
    "from sklearn.preprocessing import StandardScaler\n",
    "from sklearn.model_selection import GridSearchCV, train_test_split, cross_val_score\n",
    "from sklearn.metrics import classification_report, confusion_matrix, f1_score, plot_confusion_matrix, plot_roc_curve\n",
    "from sklearn.metrics import recall_score, precision_score\n",
    "\n",
    "import re \n",
    "\n",
    "from sklearn.feature_extraction.text import CountVectorizer, TfidfVectorizer\n",
    "from sklearn.feature_extraction import text\n",
    "from nltk.stem import WordNetLemmatizer\n",
    "from nltk.stem.porter import PorterStemmer\n",
    "from sklearn.linear_model import LogisticRegression\n",
    "from sklearn.naive_bayes import MultinomialNB\n",
    "\n",
    "import sklearn\n",
    "sklearn.set_config(display='diagram')\n",
    "\n",
    "# Hide non-critical warnings appearing in Jupyter notebook\n",
    "import warnings\n",
    "warnings.filterwarnings('ignore')"
   ]
  },
  {
   "cell_type": "code",
   "execution_count": 2,
   "metadata": {},
   "outputs": [],
   "source": [
    "# Import combined subreddit data.\n",
    "df = pd.read_csv('../data/combined_cleaned_ai_ds.csv')"
   ]
  },
  {
   "cell_type": "code",
   "execution_count": 3,
   "metadata": {},
   "outputs": [
    {
     "data": {
      "text/plain": [
       "(9431, 9)"
      ]
     },
     "execution_count": 3,
     "metadata": {},
     "output_type": "execute_result"
    }
   ],
   "source": [
    "# Check the shape of the dataframe.\n",
    "df.shape"
   ]
  },
  {
   "cell_type": "code",
   "execution_count": 4,
   "metadata": {},
   "outputs": [],
   "source": [
    "# Assign text data to X.\n",
    "X = df['all_text']\n",
    "\n",
    "# Assign target feature to y.\n",
    "y = df['data_science']\n",
    "\n",
    "# Train/test split X and y.\n",
    "X_train, X_test, y_train, y_test, = train_test_split(X, y, stratify=y, random_state=42)"
   ]
  },
  {
   "cell_type": "code",
   "execution_count": 5,
   "metadata": {},
   "outputs": [
    {
     "data": {
      "text/plain": [
       "(7073,)"
      ]
     },
     "execution_count": 5,
     "metadata": {},
     "output_type": "execute_result"
    }
   ],
   "source": [
    "# Display the shape of X_train.\n",
    "X_train.shape"
   ]
  },
  {
   "cell_type": "code",
   "execution_count": 6,
   "metadata": {},
   "outputs": [
    {
     "data": {
      "text/plain": [
       "(7073,)"
      ]
     },
     "execution_count": 6,
     "metadata": {},
     "output_type": "execute_result"
    }
   ],
   "source": [
    "# Display the shape of y_train.\n",
    "y_train.shape"
   ]
  },
  {
   "cell_type": "code",
   "execution_count": 7,
   "metadata": {},
   "outputs": [
    {
     "data": {
      "text/plain": [
       "(2358,)"
      ]
     },
     "execution_count": 7,
     "metadata": {},
     "output_type": "execute_result"
    }
   ],
   "source": [
    "# Display the shape of X_test.\n",
    "X_test.shape"
   ]
  },
  {
   "cell_type": "code",
   "execution_count": 8,
   "metadata": {},
   "outputs": [
    {
     "data": {
      "text/plain": [
       "(2358,)"
      ]
     },
     "execution_count": 8,
     "metadata": {},
     "output_type": "execute_result"
    }
   ],
   "source": [
    "# Display the shape of y_test.\n",
    "y_test.shape"
   ]
  },
  {
   "cell_type": "markdown",
   "metadata": {},
   "source": [
    "## Create stemming and lemmatizing preprocessor functions"
   ]
  },
  {
   "cell_type": "code",
   "execution_count": 9,
   "metadata": {},
   "outputs": [],
   "source": [
    "# Define a function that lower-cases, splits, and lemmatizes text.\n",
    "def split_into_lems(text):\n",
    "    \"\"\"\n",
    "    (str) -> str\n",
    "    Returns a string of lower-case, lemmatized words separted by spaces.\n",
    "    \"\"\"\n",
    "    # Lowercase the text.\n",
    "    text = text.lower()\n",
    "    # Instantiate a WordNetLemmatizer.\n",
    "    lem = WordNetLemmatizer()\n",
    "    # Return a string of all the lemmatized words separated by spaces.\n",
    "    return ' '.join([lem.lemmatize(word) for word in text.split()])  "
   ]
  },
  {
   "cell_type": "code",
   "execution_count": 10,
   "metadata": {},
   "outputs": [],
   "source": [
    "# Define a function that lower-cases, splits, and stems text.\n",
    "def split_into_stems(text):\n",
    "    \"\"\"\n",
    "    (str) -> str\n",
    "    Returns a string of lower-case, stemmmed words separted by spaces.\n",
    "    \"\"\"\n",
    "    # Lowercase the text.\n",
    "    text = text.lower()\n",
    "    # Instantiate a PorterStemmer.\n",
    "    stem = PorterStemmer()\n",
    "    # Return a string of all the stemmed words separated by spaces.\n",
    "    return ' '.join([stem.stem(word) for word in text.split()])  "
   ]
  },
  {
   "cell_type": "markdown",
   "metadata": {},
   "source": [
    "## Create custom stop words"
   ]
  },
  {
   "cell_type": "code",
   "execution_count": 11,
   "metadata": {},
   "outputs": [],
   "source": [
    "# Created custom stop words.\n",
    "my_stop_words = text.ENGLISH_STOP_WORDS.union([\n",
    "    'amp', '’m', \"'d\", '‘d', 'don', \"'ll\", \"'re\", '’ve', \"n't\", '‘s', '’ll', \"'ve\", 'say', \n",
    "    '’s', 'n’t', \"'m\", '’d', \"'s\", 've', '‘ve', '‘m', '‘re', '’re', 'n‘t', 'ca', '‘ll', \n",
    "    'll', 'like', 'thanks', 'hi', 'lot'])"
   ]
  },
  {
   "cell_type": "markdown",
   "metadata": {},
   "source": [
    "# Multinomial Naive Bayes"
   ]
  },
  {
   "cell_type": "code",
   "execution_count": 12,
   "metadata": {},
   "outputs": [
    {
     "data": {
      "text/html": [
       "<style>div.sk-top-container {color: black;background-color: white;}div.sk-toggleable {background-color: white;}label.sk-toggleable__label {cursor: pointer;display: block;width: 100%;margin-bottom: 0;padding: 0.2em 0.3em;box-sizing: border-box;text-align: center;}div.sk-toggleable__content {max-height: 0;max-width: 0;overflow: hidden;text-align: left;background-color: #f0f8ff;}div.sk-toggleable__content pre {margin: 0.2em;color: black;border-radius: 0.25em;background-color: #f0f8ff;}input.sk-toggleable__control:checked~div.sk-toggleable__content {max-height: 200px;max-width: 100%;overflow: auto;}div.sk-estimator input.sk-toggleable__control:checked~label.sk-toggleable__label {background-color: #d4ebff;}div.sk-label input.sk-toggleable__control:checked~label.sk-toggleable__label {background-color: #d4ebff;}input.sk-hidden--visually {border: 0;clip: rect(1px 1px 1px 1px);clip: rect(1px, 1px, 1px, 1px);height: 1px;margin: -1px;overflow: hidden;padding: 0;position: absolute;width: 1px;}div.sk-estimator {font-family: monospace;background-color: #f0f8ff;margin: 0.25em 0.25em;border: 1px dotted black;border-radius: 0.25em;box-sizing: border-box;}div.sk-estimator:hover {background-color: #d4ebff;}div.sk-parallel-item::after {content: \"\";width: 100%;border-bottom: 1px solid gray;flex-grow: 1;}div.sk-label:hover label.sk-toggleable__label {background-color: #d4ebff;}div.sk-serial::before {content: \"\";position: absolute;border-left: 1px solid gray;box-sizing: border-box;top: 2em;bottom: 0;left: 50%;}div.sk-serial {display: flex;flex-direction: column;align-items: center;background-color: white;}div.sk-item {z-index: 1;}div.sk-parallel {display: flex;align-items: stretch;justify-content: center;background-color: white;}div.sk-parallel-item {display: flex;flex-direction: column;position: relative;background-color: white;}div.sk-parallel-item:first-child::after {align-self: flex-end;width: 50%;}div.sk-parallel-item:last-child::after {align-self: flex-start;width: 50%;}div.sk-parallel-item:only-child::after {width: 0;}div.sk-dashed-wrapped {border: 1px dashed gray;margin: 0.2em;box-sizing: border-box;padding-bottom: 0.1em;background-color: white;position: relative;}div.sk-label label {font-family: monospace;font-weight: bold;background-color: white;display: inline-block;line-height: 1.2em;}div.sk-label-container {position: relative;z-index: 2;text-align: center;}div.sk-container {display: inline-block;position: relative;}</style><div class=\"sk-top-container\"><div class=\"sk-container\"><div class=\"sk-item sk-dashed-wrapped\"><div class=\"sk-label-container\"><div class=\"sk-label sk-toggleable\"><input class=\"sk-toggleable__control sk-hidden--visually\" id=\"150c7b14-e540-47d9-a11d-c2471a4a1ff2\" type=\"checkbox\" ><label class=\"sk-toggleable__label\" for=\"150c7b14-e540-47d9-a11d-c2471a4a1ff2\">GridSearchCV</label><div class=\"sk-toggleable__content\"><pre>GridSearchCV(cv=10,\n",
       "             estimator=Pipeline(steps=[('countvectorizer',\n",
       "                                        CountVectorizer(stop_words=frozenset({\"'d\",\n",
       "                                                                              \"'ll\",\n",
       "                                                                              \"'m\",\n",
       "                                                                              \"'re\",\n",
       "                                                                              \"'s\",\n",
       "                                                                              \"'ve\",\n",
       "                                                                              'a',\n",
       "                                                                              'about',\n",
       "                                                                              'above',\n",
       "                                                                              'across',\n",
       "                                                                              'after',\n",
       "                                                                              'afterwards',\n",
       "                                                                              'again',\n",
       "                                                                              'against',\n",
       "                                                                              'all',\n",
       "                                                                              'almost',\n",
       "                                                                              'alone',\n",
       "                                                                              'along',\n",
       "                                                                              'already',\n",
       "                                                                              'also',\n",
       "                                                                              'although',\n",
       "                                                                              'always',\n",
       "                                                                              'am',\n",
       "                                                                              'among',\n",
       "                                                                              'amongst',\n",
       "                                                                              'amoungst',\n",
       "                                                                              'amount',\n",
       "                                                                              'amp',\n",
       "                                                                              'an',\n",
       "                                                                              'and', ...}))),\n",
       "                                       ('multinomialnb', MultinomialNB())]),\n",
       "             n_jobs=-1,\n",
       "             param_grid={'countvectorizer__max_df': [0.5, 0.75],\n",
       "                         'countvectorizer__min_df': [2, 3],\n",
       "                         'countvectorizer__ngram_range': [(1, 3)],\n",
       "                         'countvectorizer__preprocessor': [None,\n",
       "                                                           <function split_into_lems at 0x7f70794bff80>],\n",
       "                         'multinomialnb__alpha': [1, 2]})</pre></div></div></div><div class=\"sk-parallel\"><div class=\"sk-parallel-item\"><div class=\"sk-item\"><div class=\"sk-serial\"><div class=\"sk-item\"><div class=\"sk-serial\"><div class=\"sk-item\"><div class=\"sk-estimator sk-toggleable\"><input class=\"sk-toggleable__control sk-hidden--visually\" id=\"d170b206-5145-49e1-8ec9-a3b7661ef3a6\" type=\"checkbox\" ><label class=\"sk-toggleable__label\" for=\"d170b206-5145-49e1-8ec9-a3b7661ef3a6\">CountVectorizer</label><div class=\"sk-toggleable__content\"><pre>CountVectorizer(stop_words=frozenset({\"'d\", \"'ll\", \"'m\", \"'re\", \"'s\", \"'ve\",\n",
       "                                      'a', 'about', 'above', 'across', 'after',\n",
       "                                      'afterwards', 'again', 'against', 'all',\n",
       "                                      'almost', 'alone', 'along', 'already',\n",
       "                                      'also', 'although', 'always', 'am',\n",
       "                                      'among', 'amongst', 'amoungst', 'amount',\n",
       "                                      'amp', 'an', 'and', ...}))</pre></div></div></div><div class=\"sk-item\"><div class=\"sk-estimator sk-toggleable\"><input class=\"sk-toggleable__control sk-hidden--visually\" id=\"20f9001d-430e-4d60-9f16-503008181b46\" type=\"checkbox\" ><label class=\"sk-toggleable__label\" for=\"20f9001d-430e-4d60-9f16-503008181b46\">MultinomialNB</label><div class=\"sk-toggleable__content\"><pre>MultinomialNB()</pre></div></div></div></div></div></div></div></div></div></div></div></div>"
      ],
      "text/plain": [
       "GridSearchCV(cv=10,\n",
       "             estimator=Pipeline(steps=[('countvectorizer',\n",
       "                                        CountVectorizer(stop_words=frozenset({\"'d\",\n",
       "                                                                              \"'ll\",\n",
       "                                                                              \"'m\",\n",
       "                                                                              \"'re\",\n",
       "                                                                              \"'s\",\n",
       "                                                                              \"'ve\",\n",
       "                                                                              'a',\n",
       "                                                                              'about',\n",
       "                                                                              'above',\n",
       "                                                                              'across',\n",
       "                                                                              'after',\n",
       "                                                                              'afterwards',\n",
       "                                                                              'again',\n",
       "                                                                              'against',\n",
       "                                                                              'all',\n",
       "                                                                              'almost',\n",
       "                                                                              'alone',\n",
       "                                                                              'along',\n",
       "                                                                              'already',\n",
       "                                                                              'also',\n",
       "                                                                              'although',\n",
       "                                                                              'always',\n",
       "                                                                              'am',\n",
       "                                                                              'among',\n",
       "                                                                              'amongst',\n",
       "                                                                              'amoungst',\n",
       "                                                                              'amount',\n",
       "                                                                              'amp',\n",
       "                                                                              'an',\n",
       "                                                                              'and', ...}))),\n",
       "                                       ('multinomialnb', MultinomialNB())]),\n",
       "             n_jobs=-1,\n",
       "             param_grid={'countvectorizer__max_df': [0.5, 0.75],\n",
       "                         'countvectorizer__min_df': [2, 3],\n",
       "                         'countvectorizer__ngram_range': [(1, 3)],\n",
       "                         'countvectorizer__preprocessor': [None,\n",
       "                                                           <function split_into_lems at 0x7f70794bff80>],\n",
       "                         'multinomialnb__alpha': [1, 2]})"
      ]
     },
     "execution_count": 12,
     "metadata": {},
     "output_type": "execute_result"
    }
   ],
   "source": [
    "# Instantiate a pipeline using CountVectorizer and MulitnomialNB.\n",
    "pipe_nb = make_pipeline(\n",
    "    CountVectorizer(stop_words=my_stop_words), \n",
    "    MultinomialNB()\n",
    ")\n",
    "\n",
    "# More parameters were searched than those shown here, these performed the best.\n",
    "# Set params for GridSearchCV to iterate through.\n",
    "params_nb = {\n",
    "    'multinomialnb__alpha': [1, 2],\n",
    "    'countvectorizer__ngram_range': [(1, 3)],\n",
    "    'countvectorizer__max_df': [0.50, 0.75],\n",
    "    'countvectorizer__min_df': [2, 3],\n",
    "    'countvectorizer__preprocessor': [None, split_into_lems]\n",
    "}\n",
    "\n",
    "# Instantiate GridSearchCV using the pipe and param objects.\n",
    "grid_nb = GridSearchCV(pipe_nb, param_grid=params_nb, cv=10, n_jobs=-1)\n",
    "\n",
    "# Fit the GridSearchCV object to the training data.\n",
    "grid_nb.fit(X_train, y_train)"
   ]
  },
  {
   "cell_type": "code",
   "execution_count": 13,
   "metadata": {},
   "outputs": [
    {
     "data": {
      "text/plain": [
       "{'countvectorizer__max_df': 0.5,\n",
       " 'countvectorizer__min_df': 2,\n",
       " 'countvectorizer__ngram_range': (1, 3),\n",
       " 'countvectorizer__preprocessor': <function __main__.split_into_lems(text)>,\n",
       " 'multinomialnb__alpha': 1}"
      ]
     },
     "execution_count": 13,
     "metadata": {},
     "output_type": "execute_result"
    }
   ],
   "source": [
    "# Display the best parameters from the GridSearch.\n",
    "grid_nb.best_params_"
   ]
  },
  {
   "cell_type": "code",
   "execution_count": 14,
   "metadata": {},
   "outputs": [],
   "source": [
    "# Calculate the model's test score and save to a variable.\n",
    "nb_test = round(grid_nb.score(X_test, y_test) * 100, 2)"
   ]
  },
  {
   "cell_type": "code",
   "execution_count": 15,
   "metadata": {},
   "outputs": [],
   "source": [
    "# Calculate the model's training score and save to a variable.\n",
    "nb_train = round(grid_nb.score(X_train, y_train) * 100, 2)"
   ]
  },
  {
   "cell_type": "code",
   "execution_count": 16,
   "metadata": {},
   "outputs": [
    {
     "name": "stdout",
     "output_type": "stream",
     "text": [
      "MultinomialNB with CountVectorizer Testing Accuracy: 90.75%.\n",
      "MultinomialNB with CountVectorizer Training Accuracy: 96.21%.\n"
     ]
    }
   ],
   "source": [
    "print(f'MultinomialNB with CountVectorizer Testing Accuracy: {nb_test}%.')\n",
    "print(f'MultinomialNB with CountVectorizer Training Accuracy: {nb_train}%.')"
   ]
  },
  {
   "cell_type": "code",
   "execution_count": 17,
   "metadata": {},
   "outputs": [
    {
     "data": {
      "image/png": "[encoded data removed]",
      "text/plain": [
       "<Figure size 432x288 with 1 Axes>"
      ]
     },
     "metadata": {},
     "output_type": "display_data"
    }
   ],
   "source": [
    "# Plot the ROC Curve for MultinomialNB.\n",
    "plot_roc_curve(grid_nb.best_estimator_, X_test, y_test)\n",
    "plt.plot([0,1], [0,1], 'k--')\n",
    "plt.title('ROC Curve for Multinomial Naive Bayes');"
   ]
  },
  {
   "cell_type": "code",
   "execution_count": 18,
   "metadata": {},
   "outputs": [
    {
     "data": {
      "image/png": "[encoded data removed]",
      "text/plain": [
       "<Figure size 432x288 with 1 Axes>"
      ]
     },
     "metadata": {},
     "output_type": "display_data"
    }
   ],
   "source": [
    "# Plot the ROC Curve for MultinomialNB.\n",
    "# Override the legend with the correct description.\n",
    "plot_roc_curve(grid_nb.best_estimator_, X_test, y_test)\n",
    "plt.plot([0,1], [0,1], 'k--')\n",
    "plt.legend(labels=['Multinomial Naive Bayes (AUC = 0.96)'])\n",
    "plt.title('ROC Curve for Multinomial Naive Bayes');"
   ]
  },
  {
   "cell_type": "markdown",
   "metadata": {},
   "source": [
    "# Logistic Regression"
   ]
  },
  {
   "cell_type": "code",
   "execution_count": 19,
   "metadata": {},
   "outputs": [
    {
     "data": {
      "text/html": [
       "<style>div.sk-top-container {color: black;background-color: white;}div.sk-toggleable {background-color: white;}label.sk-toggleable__label {cursor: pointer;display: block;width: 100%;margin-bottom: 0;padding: 0.2em 0.3em;box-sizing: border-box;text-align: center;}div.sk-toggleable__content {max-height: 0;max-width: 0;overflow: hidden;text-align: left;background-color: #f0f8ff;}div.sk-toggleable__content pre {margin: 0.2em;color: black;border-radius: 0.25em;background-color: #f0f8ff;}input.sk-toggleable__control:checked~div.sk-toggleable__content {max-height: 200px;max-width: 100%;overflow: auto;}div.sk-estimator input.sk-toggleable__control:checked~label.sk-toggleable__label {background-color: #d4ebff;}div.sk-label input.sk-toggleable__control:checked~label.sk-toggleable__label {background-color: #d4ebff;}input.sk-hidden--visually {border: 0;clip: rect(1px 1px 1px 1px);clip: rect(1px, 1px, 1px, 1px);height: 1px;margin: -1px;overflow: hidden;padding: 0;position: absolute;width: 1px;}div.sk-estimator {font-family: monospace;background-color: #f0f8ff;margin: 0.25em 0.25em;border: 1px dotted black;border-radius: 0.25em;box-sizing: border-box;}div.sk-estimator:hover {background-color: #d4ebff;}div.sk-parallel-item::after {content: \"\";width: 100%;border-bottom: 1px solid gray;flex-grow: 1;}div.sk-label:hover label.sk-toggleable__label {background-color: #d4ebff;}div.sk-serial::before {content: \"\";position: absolute;border-left: 1px solid gray;box-sizing: border-box;top: 2em;bottom: 0;left: 50%;}div.sk-serial {display: flex;flex-direction: column;align-items: center;background-color: white;}div.sk-item {z-index: 1;}div.sk-parallel {display: flex;align-items: stretch;justify-content: center;background-color: white;}div.sk-parallel-item {display: flex;flex-direction: column;position: relative;background-color: white;}div.sk-parallel-item:first-child::after {align-self: flex-end;width: 50%;}div.sk-parallel-item:last-child::after {align-self: flex-start;width: 50%;}div.sk-parallel-item:only-child::after {width: 0;}div.sk-dashed-wrapped {border: 1px dashed gray;margin: 0.2em;box-sizing: border-box;padding-bottom: 0.1em;background-color: white;position: relative;}div.sk-label label {font-family: monospace;font-weight: bold;background-color: white;display: inline-block;line-height: 1.2em;}div.sk-label-container {position: relative;z-index: 2;text-align: center;}div.sk-container {display: inline-block;position: relative;}</style><div class=\"sk-top-container\"><div class=\"sk-container\"><div class=\"sk-item sk-dashed-wrapped\"><div class=\"sk-label-container\"><div class=\"sk-label sk-toggleable\"><input class=\"sk-toggleable__control sk-hidden--visually\" id=\"de62c6c9-0d04-4ed4-b4bc-4481e80e2339\" type=\"checkbox\" ><label class=\"sk-toggleable__label\" for=\"de62c6c9-0d04-4ed4-b4bc-4481e80e2339\">GridSearchCV</label><div class=\"sk-toggleable__content\"><pre>GridSearchCV(cv=10,\n",
       "             estimator=Pipeline(steps=[('tfidfvectorizer',\n",
       "                                        TfidfVectorizer(stop_words=frozenset({\"'d\",\n",
       "                                                                              \"'ll\",\n",
       "                                                                              \"'m\",\n",
       "                                                                              \"'re\",\n",
       "                                                                              \"'s\",\n",
       "                                                                              \"'ve\",\n",
       "                                                                              'a',\n",
       "                                                                              'about',\n",
       "                                                                              'above',\n",
       "                                                                              'across',\n",
       "                                                                              'after',\n",
       "                                                                              'afterwards',\n",
       "                                                                              'again',\n",
       "                                                                              'against',\n",
       "                                                                              'all',\n",
       "                                                                              'almost',\n",
       "                                                                              'alone',\n",
       "                                                                              'along',\n",
       "                                                                              'already',\n",
       "                                                                              'also',\n",
       "                                                                              'although',\n",
       "                                                                              'always',\n",
       "                                                                              'am',\n",
       "                                                                              'among',\n",
       "                                                                              'amongst',\n",
       "                                                                              'amoungst',\n",
       "                                                                              'amount',\n",
       "                                                                              'amp',\n",
       "                                                                              'an',\n",
       "                                                                              'and', ...}))),\n",
       "                                       ('logisticr...,\n",
       "                                        LogisticRegression(max_iter=10000))]),\n",
       "             n_jobs=-1,\n",
       "             param_grid={'logisticregression__C': [1, 2],\n",
       "                         'logisticregression__penalty': ['l2'],\n",
       "                         'logisticregression__solver': ['liblinear'],\n",
       "                         'tfidfvectorizer__max_df': [0.5],\n",
       "                         'tfidfvectorizer__min_df': [2],\n",
       "                         'tfidfvectorizer__ngram_range': [(1, 3)],\n",
       "                         'tfidfvectorizer__preprocessor': [<function split_into_stems at 0x7f703891fc20>]})</pre></div></div></div><div class=\"sk-parallel\"><div class=\"sk-parallel-item\"><div class=\"sk-item\"><div class=\"sk-serial\"><div class=\"sk-item\"><div class=\"sk-serial\"><div class=\"sk-item\"><div class=\"sk-estimator sk-toggleable\"><input class=\"sk-toggleable__control sk-hidden--visually\" id=\"8088e390-16da-4926-9ac3-10dfa9b8c298\" type=\"checkbox\" ><label class=\"sk-toggleable__label\" for=\"8088e390-16da-4926-9ac3-10dfa9b8c298\">TfidfVectorizer</label><div class=\"sk-toggleable__content\"><pre>TfidfVectorizer(stop_words=frozenset({\"'d\", \"'ll\", \"'m\", \"'re\", \"'s\", \"'ve\",\n",
       "                                      'a', 'about', 'above', 'across', 'after',\n",
       "                                      'afterwards', 'again', 'against', 'all',\n",
       "                                      'almost', 'alone', 'along', 'already',\n",
       "                                      'also', 'although', 'always', 'am',\n",
       "                                      'among', 'amongst', 'amoungst', 'amount',\n",
       "                                      'amp', 'an', 'and', ...}))</pre></div></div></div><div class=\"sk-item\"><div class=\"sk-estimator sk-toggleable\"><input class=\"sk-toggleable__control sk-hidden--visually\" id=\"acac62e6-d142-4813-a6ab-16f8acc18569\" type=\"checkbox\" ><label class=\"sk-toggleable__label\" for=\"acac62e6-d142-4813-a6ab-16f8acc18569\">LogisticRegression</label><div class=\"sk-toggleable__content\"><pre>LogisticRegression(max_iter=10000)</pre></div></div></div></div></div></div></div></div></div></div></div></div>"
      ],
      "text/plain": [
       "GridSearchCV(cv=10,\n",
       "             estimator=Pipeline(steps=[('tfidfvectorizer',\n",
       "                                        TfidfVectorizer(stop_words=frozenset({\"'d\",\n",
       "                                                                              \"'ll\",\n",
       "                                                                              \"'m\",\n",
       "                                                                              \"'re\",\n",
       "                                                                              \"'s\",\n",
       "                                                                              \"'ve\",\n",
       "                                                                              'a',\n",
       "                                                                              'about',\n",
       "                                                                              'above',\n",
       "                                                                              'across',\n",
       "                                                                              'after',\n",
       "                                                                              'afterwards',\n",
       "                                                                              'again',\n",
       "                                                                              'against',\n",
       "                                                                              'all',\n",
       "                                                                              'almost',\n",
       "                                                                              'alone',\n",
       "                                                                              'along',\n",
       "                                                                              'already',\n",
       "                                                                              'also',\n",
       "                                                                              'although',\n",
       "                                                                              'always',\n",
       "                                                                              'am',\n",
       "                                                                              'among',\n",
       "                                                                              'amongst',\n",
       "                                                                              'amoungst',\n",
       "                                                                              'amount',\n",
       "                                                                              'amp',\n",
       "                                                                              'an',\n",
       "                                                                              'and', ...}))),\n",
       "                                       ('logisticr...,\n",
       "                                        LogisticRegression(max_iter=10000))]),\n",
       "             n_jobs=-1,\n",
       "             param_grid={'logisticregression__C': [1, 2],\n",
       "                         'logisticregression__penalty': ['l2'],\n",
       "                         'logisticregression__solver': ['liblinear'],\n",
       "                         'tfidfvectorizer__max_df': [0.5],\n",
       "                         'tfidfvectorizer__min_df': [2],\n",
       "                         'tfidfvectorizer__ngram_range': [(1, 3)],\n",
       "                         'tfidfvectorizer__preprocessor': [<function split_into_stems at 0x7f703891fc20>]})"
      ]
     },
     "execution_count": 19,
     "metadata": {},
     "output_type": "execute_result"
    }
   ],
   "source": [
    "# Instantiate a pipeline using TfidfVectorizer and Logistic Regression.\n",
    "pipe_logr = make_pipeline(\n",
    "    TfidfVectorizer(stop_words=my_stop_words), \n",
    "    LogisticRegression(max_iter=10_000))\n",
    "\n",
    "# More parameters were searched than those shown here, these performed the best.\n",
    "# Set params for GridSearchCV to iterate through.\n",
    "params_logr = {\n",
    "    'logisticregression__penalty': ['l2'],\n",
    "    'logisticregression__C': [1, 2],\n",
    "    'logisticregression__solver': ['liblinear'],\n",
    "    'tfidfvectorizer__ngram_range': [(1, 3)],\n",
    "    'tfidfvectorizer__max_df': [0.50],\n",
    "    'tfidfvectorizer__min_df': [2],\n",
    "    'tfidfvectorizer__preprocessor': [split_into_stems]\n",
    "}\n",
    "\n",
    "# Instantiate GridSearchCV using the pipe and param objects.\n",
    "grid_logr = GridSearchCV(pipe_logr, param_grid=params_logr, cv=10, n_jobs=-1)\n",
    "\n",
    "# Fit the GridSearchCV object to the training data.\n",
    "grid_logr.fit(X_train, y_train)"
   ]
  },
  {
   "cell_type": "code",
   "execution_count": 20,
   "metadata": {},
   "outputs": [
    {
     "data": {
      "text/plain": [
       "{'logisticregression__C': 2,\n",
       " 'logisticregression__penalty': 'l2',\n",
       " 'logisticregression__solver': 'liblinear',\n",
       " 'tfidfvectorizer__max_df': 0.5,\n",
       " 'tfidfvectorizer__min_df': 2,\n",
       " 'tfidfvectorizer__ngram_range': (1, 3),\n",
       " 'tfidfvectorizer__preprocessor': <function __main__.split_into_stems(text)>}"
      ]
     },
     "execution_count": 20,
     "metadata": {},
     "output_type": "execute_result"
    }
   ],
   "source": [
    "# Display the best parameters from the GridSearch.\n",
    "grid_logr.best_params_"
   ]
  },
  {
   "cell_type": "code",
   "execution_count": 21,
   "metadata": {},
   "outputs": [],
   "source": [
    "# Calculate the model's test score and save to a variable.\n",
    "logr_test = round(grid_logr.score(X_test, y_test) * 100, 2)"
   ]
  },
  {
   "cell_type": "code",
   "execution_count": 22,
   "metadata": {},
   "outputs": [],
   "source": [
    "# Calculate the model's training score and save to a variable.\n",
    "logr_train = round(grid_logr.score(X_train, y_train) * 100, 2)"
   ]
  },
  {
   "cell_type": "code",
   "execution_count": 23,
   "metadata": {},
   "outputs": [
    {
     "name": "stdout",
     "output_type": "stream",
     "text": [
      "Logistic Regression with TfidfVectorizer and Stemming Testing Accuracy: 92.66%\n",
      "Logistic Regression with TfidfVectorizer and Stemming Training Accuracy: 97.85%\n"
     ]
    }
   ],
   "source": [
    "print(f'Logistic Regression with TfidfVectorizer and Stemming Testing Accuracy: {logr_test}%') \n",
    "print(f'Logistic Regression with TfidfVectorizer and Stemming Training Accuracy: {logr_train}%')"
   ]
  },
  {
   "cell_type": "code",
   "execution_count": 24,
   "metadata": {},
   "outputs": [
    {
     "data": {
      "image/png": "[encoded data removed]",
      "text/plain": [
       "<Figure size 432x288 with 1 Axes>"
      ]
     },
     "metadata": {},
     "output_type": "display_data"
    }
   ],
   "source": [
    "# Plot the ROC Curve for Logistic Regression.\n",
    "plot_roc_curve(grid_logr.best_estimator_, X_test, y_test)\n",
    "plt.plot([0,1], [0,1], 'k--')\n",
    "plt.title('ROC Curve for Logistic Regression');"
   ]
  },
  {
   "cell_type": "code",
   "execution_count": 25,
   "metadata": {},
   "outputs": [
    {
     "data": {
      "image/png": "[encoded data removed]",
      "text/plain": [
       "<Figure size 432x288 with 1 Axes>"
      ]
     },
     "metadata": {},
     "output_type": "display_data"
    }
   ],
   "source": [
    "# Plot the ROC Curve for Logistic Regression.\n",
    "# Override the legend with the correct description.\n",
    "plot_roc_curve(grid_logr.best_estimator_, X_test, y_test)\n",
    "plt.plot([0,1], [0,1], 'k--')\n",
    "plt.legend(labels=['Logistic Regression (AUC = 0.98)'])\n",
    "plt.title('ROC Curve for Logistic Regression');"
   ]
  },
  {
   "cell_type": "markdown",
   "metadata": {},
   "source": [
    "# Logistic Regression Coefficients"
   ]
  },
  {
   "cell_type": "code",
   "execution_count": 26,
   "metadata": {},
   "outputs": [],
   "source": [
    "# Extract amd save the word stem coefficients from the model.\n",
    "word_coefs = grid_logr.best_estimator_.named_steps['logisticregression'].coef_[0]\n",
    "\n",
    "# Extract amd save the word stems from the model.\n",
    "words = grid_logr.best_estimator_.named_steps['tfidfvectorizer'].get_feature_names()"
   ]
  },
  {
   "cell_type": "code",
   "execution_count": 27,
   "metadata": {},
   "outputs": [],
   "source": [
    "# Convert the words and word coefficients to a dataframe.\n",
    "word_coef_df = pd.DataFrame({'Coefficients': word_coefs}, index=words)"
   ]
  },
  {
   "cell_type": "code",
   "execution_count": 28,
   "metadata": {},
   "outputs": [
    {
     "data": {
      "text/html": [
       "<div>\n",
       "<style scoped>\n",
       "    .dataframe tbody tr th:only-of-type {\n",
       "        vertical-align: middle;\n",
       "    }\n",
       "\n",
       "    .dataframe tbody tr th {\n",
       "        vertical-align: top;\n",
       "    }\n",
       "\n",
       "    .dataframe thead th {\n",
       "        text-align: right;\n",
       "    }\n",
       "</style>\n",
       "<table border=\"1\" class=\"dataframe\">\n",
       "  <thead>\n",
       "    <tr style=\"text-align: right;\">\n",
       "      <th></th>\n",
       "      <th>Coefficients</th>\n",
       "    </tr>\n",
       "  </thead>\n",
       "  <tbody>\n",
       "    <tr>\n",
       "      <th>data</th>\n",
       "      <td>11.580135</td>\n",
       "    </tr>\n",
       "    <tr>\n",
       "      <th>data scienc</th>\n",
       "      <td>7.177819</td>\n",
       "    </tr>\n",
       "    <tr>\n",
       "      <th>scienc</th>\n",
       "      <td>6.185033</td>\n",
       "    </tr>\n",
       "    <tr>\n",
       "      <th>ds</th>\n",
       "      <td>4.545478</td>\n",
       "    </tr>\n",
       "    <tr>\n",
       "      <th>statist</th>\n",
       "      <td>3.880717</td>\n",
       "    </tr>\n",
       "    <tr>\n",
       "      <th>...</th>\n",
       "      <td>...</td>\n",
       "    </tr>\n",
       "    <tr>\n",
       "      <th>human</th>\n",
       "      <td>-4.049954</td>\n",
       "    </tr>\n",
       "    <tr>\n",
       "      <th>artifici intellig</th>\n",
       "      <td>-4.444164</td>\n",
       "    </tr>\n",
       "    <tr>\n",
       "      <th>artifici</th>\n",
       "      <td>-5.326601</td>\n",
       "    </tr>\n",
       "    <tr>\n",
       "      <th>intellig</th>\n",
       "      <td>-5.409287</td>\n",
       "    </tr>\n",
       "    <tr>\n",
       "      <th>ai</th>\n",
       "      <td>-18.493182</td>\n",
       "    </tr>\n",
       "  </tbody>\n",
       "</table>\n",
       "<p>83539 rows × 1 columns</p>\n",
       "</div>"
      ],
      "text/plain": [
       "                   Coefficients\n",
       "data                  11.580135\n",
       "data scienc            7.177819\n",
       "scienc                 6.185033\n",
       "ds                     4.545478\n",
       "statist                3.880717\n",
       "...                         ...\n",
       "human                 -4.049954\n",
       "artifici intellig     -4.444164\n",
       "artifici              -5.326601\n",
       "intellig              -5.409287\n",
       "ai                   -18.493182\n",
       "\n",
       "[83539 rows x 1 columns]"
      ]
     },
     "execution_count": 28,
     "metadata": {},
     "output_type": "execute_result"
    }
   ],
   "source": [
    "# Sort the dataframe by coefficients.\n",
    "word_coef_df = word_coef_df.sort_values(by='Coefficients', ascending=False)\n",
    "\n",
    "# Display the dataframe.\n",
    "word_coef_df"
   ]
  },
  {
   "cell_type": "code",
   "execution_count": 29,
   "metadata": {},
   "outputs": [
    {
     "data": {
      "text/html": [
       "<div>\n",
       "<style scoped>\n",
       "    .dataframe tbody tr th:only-of-type {\n",
       "        vertical-align: middle;\n",
       "    }\n",
       "\n",
       "    .dataframe tbody tr th {\n",
       "        vertical-align: top;\n",
       "    }\n",
       "\n",
       "    .dataframe thead th {\n",
       "        text-align: right;\n",
       "    }\n",
       "</style>\n",
       "<table border=\"1\" class=\"dataframe\">\n",
       "  <thead>\n",
       "    <tr style=\"text-align: right;\">\n",
       "      <th></th>\n",
       "      <th>Coefficients</th>\n",
       "    </tr>\n",
       "  </thead>\n",
       "  <tbody>\n",
       "    <tr>\n",
       "      <th>ai</th>\n",
       "      <td>-18.493182</td>\n",
       "    </tr>\n",
       "    <tr>\n",
       "      <th>intellig</th>\n",
       "      <td>-5.409287</td>\n",
       "    </tr>\n",
       "    <tr>\n",
       "      <th>artifici</th>\n",
       "      <td>-5.326601</td>\n",
       "    </tr>\n",
       "    <tr>\n",
       "      <th>artifici intellig</th>\n",
       "      <td>-4.444164</td>\n",
       "    </tr>\n",
       "    <tr>\n",
       "      <th>human</th>\n",
       "      <td>-4.049954</td>\n",
       "    </tr>\n",
       "    <tr>\n",
       "      <th>paper</th>\n",
       "      <td>-3.130150</td>\n",
       "    </tr>\n",
       "    <tr>\n",
       "      <th>robot</th>\n",
       "      <td>-2.861626</td>\n",
       "    </tr>\n",
       "    <tr>\n",
       "      <th>agi</th>\n",
       "      <td>-2.765694</td>\n",
       "    </tr>\n",
       "    <tr>\n",
       "      <th>job</th>\n",
       "      <td>3.082143</td>\n",
       "    </tr>\n",
       "    <tr>\n",
       "      <th>data scientist</th>\n",
       "      <td>3.336373</td>\n",
       "    </tr>\n",
       "    <tr>\n",
       "      <th>python</th>\n",
       "      <td>3.517043</td>\n",
       "    </tr>\n",
       "    <tr>\n",
       "      <th>statist</th>\n",
       "      <td>3.880717</td>\n",
       "    </tr>\n",
       "    <tr>\n",
       "      <th>ds</th>\n",
       "      <td>4.545478</td>\n",
       "    </tr>\n",
       "    <tr>\n",
       "      <th>scienc</th>\n",
       "      <td>6.185033</td>\n",
       "    </tr>\n",
       "    <tr>\n",
       "      <th>data scienc</th>\n",
       "      <td>7.177819</td>\n",
       "    </tr>\n",
       "    <tr>\n",
       "      <th>data</th>\n",
       "      <td>11.580135</td>\n",
       "    </tr>\n",
       "  </tbody>\n",
       "</table>\n",
       "</div>"
      ],
      "text/plain": [
       "                   Coefficients\n",
       "ai                   -18.493182\n",
       "intellig              -5.409287\n",
       "artifici              -5.326601\n",
       "artifici intellig     -4.444164\n",
       "human                 -4.049954\n",
       "paper                 -3.130150\n",
       "robot                 -2.861626\n",
       "agi                   -2.765694\n",
       "job                    3.082143\n",
       "data scientist         3.336373\n",
       "python                 3.517043\n",
       "statist                3.880717\n",
       "ds                     4.545478\n",
       "scienc                 6.185033\n",
       "data scienc            7.177819\n",
       "data                  11.580135"
      ]
     },
     "execution_count": 29,
     "metadata": {},
     "output_type": "execute_result"
    }
   ],
   "source": [
    "# Extract and save the largest 5 word coefficients.\n",
    "word_coef_df_lg_5 = word_coef_df.nlargest(8, 'Coefficients')\n",
    "\n",
    "# Extract and save the smallest 5 word coefficients.\n",
    "word_coef_df_sm_5 = word_coef_df.nsmallest(8, 'Coefficients')\n",
    "\n",
    "# Concatenate the largest and smallest word coefficients.\n",
    "word_coef_top_10 = pd.concat([word_coef_df_lg_5, word_coef_df_sm_5])\n",
    "\n",
    "# Sort the dataframe by coefficients.\n",
    "word_coef_top_10 = word_coef_top_10.sort_values(by='Coefficients')\n",
    "\n",
    "# Display the dataframe.\n",
    "word_coef_top_10"
   ]
  },
  {
   "cell_type": "code",
   "execution_count": 30,
   "metadata": {},
   "outputs": [
    {
     "data": {
      "image/png": "[encoded data removed]",
      "text/plain": [
       "<Figure size 576x504 with 1 Axes>"
      ]
     },
     "metadata": {},
     "output_type": "display_data"
    }
   ],
   "source": [
    "# Plot the datatframe of the top 10 word and their coefficients.\n",
    "word_coef_top_10.plot(kind = 'barh', figsize=(8,7))\n",
    "plt.title('Top Word Stem Model Coefficients', fontsize=18)\n",
    "plt.yticks(fontsize=16)\n",
    "plt.legend(fontsize=14, loc='lower right');"
   ]
  },
  {
   "cell_type": "markdown",
   "metadata": {},
   "source": [
    "The model predicted 1 for data science, and 0 for artificial intelligence. The word stems with positive coefficients exerted more influence over a data-science classification, while the word stems with negative coefficients exerted more influence over an artificial intelligence classification."
   ]
  },
  {
   "cell_type": "code",
   "execution_count": 31,
   "metadata": {},
   "outputs": [],
   "source": [
    "# Use the best logistic regression estimator to predict y.\n",
    "# Save to a variable.\n",
    "y_preds = grid_logr.predict(X_test)"
   ]
  },
  {
   "cell_type": "code",
   "execution_count": 32,
   "metadata": {},
   "outputs": [
    {
     "data": {
      "image/png": "[encoded data removed]",
      "text/plain": [
       "<Figure size 432x288 with 2 Axes>"
      ]
     },
     "metadata": {},
     "output_type": "display_data"
    }
   ],
   "source": [
    "# Plot a confusion matrix.\n",
    "plot_confusion_matrix(\n",
    "    grid_logr, \n",
    "    X_test, \n",
    "    y_test, \n",
    "    display_labels=['Artificial Intelligence', 'Data Science']\n",
    ");"
   ]
  },
  {
   "cell_type": "code",
   "execution_count": 33,
   "metadata": {},
   "outputs": [
    {
     "name": "stdout",
     "output_type": "stream",
     "text": [
      "The best model's recall score is 93.08%.\n"
     ]
    }
   ],
   "source": [
    "# Calculate the model's recall and save to a variable.\n",
    "recall = round(recall_score(y_test, y_preds) * 100, 2)\n",
    "print(f\"The best model's recall score is {recall}%.\")"
   ]
  },
  {
   "cell_type": "code",
   "execution_count": 34,
   "metadata": {},
   "outputs": [
    {
     "name": "stdout",
     "output_type": "stream",
     "text": [
      "The best model's precision score is 93.01%.\n"
     ]
    }
   ],
   "source": [
    "# Calculate the model's precision and save to a variable.\n",
    "precision = round(precision_score(y_test, y_preds) * 100, 2)\n",
    "\n",
    "print(f\"The best model's precision score is {precision}%.\")"
   ]
  },
  {
   "cell_type": "markdown",
   "metadata": {},
   "source": [
    "# Conclusions"
   ]
  },
  {
   "cell_type": "markdown",
   "metadata": {},
   "source": [
    "The baseline classifier for this project was Multinomial Naive Bayes. An accuracy score of 90.75% was achieved through a combination of CountVectorizer and optimized hyperparameters.\n",
    "\n",
    "The optimal model was Logistic Regression with TfdifVectorizer. It achieved an accuracy score of 92.66%, with a recall score of 93.08% and a precision of 93.01%. \n",
    "\n",
    "The best model was slightly overfit with a training accuracy of 98%, but this was less overfit than tree models observed during model iteration. \n",
    "\n",
    "The benefit of logistic regression is that interpretable word coefficients were able to be extracted and visualized. \n",
    "\n",
    "A performance boost was was observed when posts with missing text were dropped. This could be explained by more text conveying a stronger signal in an NLP model. It might also be the case that posts with title text only tended to be less relevant.\n",
    "\n",
    "## Possible Next Steps:\n",
    "- Continue to test the model’s bias and variance by testing it on new data.\n",
    "- Further validate the model on new posts.\n",
    "- Explore other machine learning-related subreddits and how they differentiate."
   ]
  }
 ],
 "metadata": {
  "kernelspec": {
   "display_name": "Python 3",
   "language": "python",
   "name": "python3"
  },
  "language_info": {
   "codemirror_mode": {
    "name": "ipython",
    "version": 3
   },
   "file_extension": ".py",
   "mimetype": "text/x-python",
   "name": "python",
   "nbconvert_exporter": "python",
   "pygments_lexer": "ipython3",
   "version": "3.7.9"
  }
 },
 "nbformat": 4,
 "nbformat_minor": 4
}
