{
 "cells": [
  {
   "cell_type": "markdown",
   "metadata": {},
   "source": [
    "# Subreddit Classification Using Language Processing\n",
    "## Part 2 of 4: Exploratory Data Analysis and Cleaning"
   ]
  },
  {
   "cell_type": "markdown",
   "metadata": {},
   "source": [
    "#### Notebooks\n",
    "- [01_data_collection](./01_data_collection.ipynb)\n",
    "- [02_eda_and_cleaning](./02_eda_and_cleaning.ipynb)\n",
    "- [03_visualizing](./03_visualizing.ipynb)\n",
    "- [04_modeling](./04_modeling.ipynb)\n",
    "\n",
    "#### This Notebook's Contents\n",
    "- [Exploratory Data Analysis](#Exploratory-Data-Analysis)\n",
    "- [Cleaning the Data](#Cleaning-the-Data)\n",
    "- [Cleaning the Text](#Cleaning-the-Text)\n",
    "\n",
    "*NOTE: 'Data Science' may be abbrebiated to DS below. 'Artificial Intelligence' may be abbreviated to AI below.*"
   ]
  },
  {
   "cell_type": "markdown",
   "metadata": {},
   "source": [
    "# Exploratory Data Analysis"
   ]
  },
  {
   "cell_type": "code",
   "execution_count": 1,
   "metadata": {},
   "outputs": [],
   "source": [
    "# Import the required libraries.\n",
    "import pandas as pd\n",
    "import numpy as np\n",
    "import matplotlib.pyplot as plt\n",
    "from matplotlib_venn import venn2, venn2_circles\n",
    "\n",
    "import re\n",
    "\n",
    "from sklearn.feature_extraction.text import CountVectorizer\n",
    "from sklearn.feature_extraction import text\n",
    "\n",
    "# Hide non-critical warnings appearing in Jupyter notebook.\n",
    "import warnings\n",
    "warnings.filterwarnings('ignore')"
   ]
  },
  {
   "cell_type": "code",
   "execution_count": 2,
   "metadata": {},
   "outputs": [],
   "source": [
    "# Read in the DS data as a dataframe.\n",
    "ds_df = pd.read_csv('../data/datascience_og.csv')"
   ]
  },
  {
   "cell_type": "code",
   "execution_count": 3,
   "metadata": {},
   "outputs": [],
   "source": [
    "# Read in the AI data as a dataframe.\n",
    "ai_df = pd.read_csv('../data/artificial_og.csv')"
   ]
  },
  {
   "cell_type": "code",
   "execution_count": 4,
   "metadata": {},
   "outputs": [
    {
     "data": {
      "text/plain": [
       "(31649, 7)"
      ]
     },
     "execution_count": 4,
     "metadata": {},
     "output_type": "execute_result"
    }
   ],
   "source": [
    "# Check the shape of the DS dataframe.\n",
    "ds_df.shape"
   ]
  },
  {
   "cell_type": "code",
   "execution_count": 5,
   "metadata": {},
   "outputs": [
    {
     "name": "stdout",
     "output_type": "stream",
     "text": [
      "<class 'pandas.core.frame.DataFrame'>\n",
      "RangeIndex: 31649 entries, 0 to 31648\n",
      "Data columns (total 7 columns):\n",
      " #   Column       Non-Null Count  Dtype \n",
      "---  ------       --------------  ----- \n",
      " 0   title        31649 non-null  object\n",
      " 1   created_utc  31649 non-null  int64 \n",
      " 2   selftext     23641 non-null  object\n",
      " 3   subreddit    31649 non-null  object\n",
      " 4   author       31649 non-null  object\n",
      " 5   media_only   31585 non-null  object\n",
      " 6   permalink    31649 non-null  object\n",
      "dtypes: int64(1), object(6)\n",
      "memory usage: 1.7+ MB\n"
     ]
    }
   ],
   "source": [
    "# Display information about the DS dataframe.\n",
    "ds_df.info()"
   ]
  },
  {
   "cell_type": "code",
   "execution_count": 6,
   "metadata": {},
   "outputs": [
    {
     "data": {
      "text/plain": [
       "(18754, 7)"
      ]
     },
     "execution_count": 6,
     "metadata": {},
     "output_type": "execute_result"
    }
   ],
   "source": [
    "# Check the shape of the AI dataframe.\n",
    "ai_df.shape"
   ]
  },
  {
   "cell_type": "code",
   "execution_count": 7,
   "metadata": {},
   "outputs": [
    {
     "name": "stdout",
     "output_type": "stream",
     "text": [
      "<class 'pandas.core.frame.DataFrame'>\n",
      "RangeIndex: 18754 entries, 0 to 18753\n",
      "Data columns (total 7 columns):\n",
      " #   Column       Non-Null Count  Dtype \n",
      "---  ------       --------------  ----- \n",
      " 0   title        18754 non-null  object\n",
      " 1   created_utc  18754 non-null  int64 \n",
      " 2   selftext     5422 non-null   object\n",
      " 3   subreddit    18754 non-null  object\n",
      " 4   author       18754 non-null  object\n",
      " 5   media_only   18672 non-null  object\n",
      " 6   permalink    18754 non-null  object\n",
      "dtypes: int64(1), object(6)\n",
      "memory usage: 1.0+ MB\n"
     ]
    }
   ],
   "source": [
    "# Display information about the AI dataframe.\n",
    "ai_df.info()"
   ]
  },
  {
   "cell_type": "code",
   "execution_count": 8,
   "metadata": {},
   "outputs": [
    {
     "data": {
      "text/plain": [
       "title             0\n",
       "created_utc       0\n",
       "selftext       8008\n",
       "subreddit         0\n",
       "author            0\n",
       "media_only       64\n",
       "permalink         0\n",
       "dtype: int64"
      ]
     },
     "execution_count": 8,
     "metadata": {},
     "output_type": "execute_result"
    }
   ],
   "source": [
    "# Display the NaN values in the DS dataframe.\n",
    "ds_df.isna().sum()"
   ]
  },
  {
   "cell_type": "code",
   "execution_count": 9,
   "metadata": {},
   "outputs": [
    {
     "data": {
      "text/plain": [
       "title              0\n",
       "created_utc        0\n",
       "selftext       13332\n",
       "subreddit          0\n",
       "author             0\n",
       "media_only        82\n",
       "permalink          0\n",
       "dtype: int64"
      ]
     },
     "execution_count": 9,
     "metadata": {},
     "output_type": "execute_result"
    }
   ],
   "source": [
    "# Display the NaN values in the AI dataframe.\n",
    "ai_df.isna().sum()"
   ]
  },
  {
   "cell_type": "code",
   "execution_count": 10,
   "metadata": {},
   "outputs": [
    {
     "data": {
      "text/html": [
       "<div>\n",
       "<style scoped>\n",
       "    .dataframe tbody tr th:only-of-type {\n",
       "        vertical-align: middle;\n",
       "    }\n",
       "\n",
       "    .dataframe tbody tr th {\n",
       "        vertical-align: top;\n",
       "    }\n",
       "\n",
       "    .dataframe thead th {\n",
       "        text-align: right;\n",
       "    }\n",
       "</style>\n",
       "<table border=\"1\" class=\"dataframe\">\n",
       "  <thead>\n",
       "    <tr style=\"text-align: right;\">\n",
       "      <th></th>\n",
       "      <th>title</th>\n",
       "      <th>created_utc</th>\n",
       "      <th>selftext</th>\n",
       "      <th>subreddit</th>\n",
       "      <th>author</th>\n",
       "      <th>media_only</th>\n",
       "      <th>permalink</th>\n",
       "    </tr>\n",
       "  </thead>\n",
       "  <tbody>\n",
       "    <tr>\n",
       "      <th>2</th>\n",
       "      <td>The Most Popular Programming Languages - 1965/...</td>\n",
       "      <td>1601811209</td>\n",
       "      <td>NaN</td>\n",
       "      <td>datascience</td>\n",
       "      <td>accappatoiviola</td>\n",
       "      <td>False</td>\n",
       "      <td>/r/datascience/comments/j4xiyx/the_most_popula...</td>\n",
       "    </tr>\n",
       "    <tr>\n",
       "      <th>5</th>\n",
       "      <td>8 Ways to Drop Columns in Pandas | A Detailed ...</td>\n",
       "      <td>1601792947</td>\n",
       "      <td>NaN</td>\n",
       "      <td>datascience</td>\n",
       "      <td>thatascience</td>\n",
       "      <td>False</td>\n",
       "      <td>/r/datascience/comments/j4ueix/8_ways_to_drop_...</td>\n",
       "    </tr>\n",
       "  </tbody>\n",
       "</table>\n",
       "</div>"
      ],
      "text/plain": [
       "                                               title  created_utc selftext  \\\n",
       "2  The Most Popular Programming Languages - 1965/...   1601811209      NaN   \n",
       "5  8 Ways to Drop Columns in Pandas | A Detailed ...   1601792947      NaN   \n",
       "\n",
       "     subreddit           author media_only  \\\n",
       "2  datascience  accappatoiviola      False   \n",
       "5  datascience     thatascience      False   \n",
       "\n",
       "                                           permalink  \n",
       "2  /r/datascience/comments/j4xiyx/the_most_popula...  \n",
       "5  /r/datascience/comments/j4ueix/8_ways_to_drop_...  "
      ]
     },
     "execution_count": 10,
     "metadata": {},
     "output_type": "execute_result"
    }
   ],
   "source": [
    "# 'Selftext' represents data in the subreddit post.\n",
    "# Some posts have title text but no text in the post itself.\n",
    "\n",
    "# Display two rows where selftext data is missing.\n",
    "ds_df[ds_df['selftext'].isna()].head(2)"
   ]
  },
  {
   "cell_type": "code",
   "execution_count": 11,
   "metadata": {},
   "outputs": [
    {
     "data": {
      "text/html": [
       "<div>\n",
       "<style scoped>\n",
       "    .dataframe tbody tr th:only-of-type {\n",
       "        vertical-align: middle;\n",
       "    }\n",
       "\n",
       "    .dataframe tbody tr th {\n",
       "        vertical-align: top;\n",
       "    }\n",
       "\n",
       "    .dataframe thead th {\n",
       "        text-align: right;\n",
       "    }\n",
       "</style>\n",
       "<table border=\"1\" class=\"dataframe\">\n",
       "  <thead>\n",
       "    <tr style=\"text-align: right;\">\n",
       "      <th></th>\n",
       "      <th>title</th>\n",
       "      <th>created_utc</th>\n",
       "      <th>selftext</th>\n",
       "      <th>subreddit</th>\n",
       "      <th>author</th>\n",
       "      <th>media_only</th>\n",
       "      <th>permalink</th>\n",
       "    </tr>\n",
       "  </thead>\n",
       "  <tbody>\n",
       "    <tr>\n",
       "      <th>2</th>\n",
       "      <td>AR/VR Can Impact the Future of Healthcare</td>\n",
       "      <td>1601925920</td>\n",
       "      <td>NaN</td>\n",
       "      <td>artificial</td>\n",
       "      <td>stayhealthy_1</td>\n",
       "      <td>False</td>\n",
       "      <td>/r/artificial/comments/j5q0bb/arvr_can_impact_...</td>\n",
       "    </tr>\n",
       "    <tr>\n",
       "      <th>3</th>\n",
       "      <td>A Reddit user was caught today posting many co...</td>\n",
       "      <td>1601924278</td>\n",
       "      <td>NaN</td>\n",
       "      <td>artificial</td>\n",
       "      <td>Wiskkey</td>\n",
       "      <td>False</td>\n",
       "      <td>/r/artificial/comments/j5ph1h/a_reddit_user_wa...</td>\n",
       "    </tr>\n",
       "  </tbody>\n",
       "</table>\n",
       "</div>"
      ],
      "text/plain": [
       "                                               title  created_utc selftext  \\\n",
       "2          AR/VR Can Impact the Future of Healthcare   1601925920      NaN   \n",
       "3  A Reddit user was caught today posting many co...   1601924278      NaN   \n",
       "\n",
       "    subreddit         author media_only  \\\n",
       "2  artificial  stayhealthy_1      False   \n",
       "3  artificial        Wiskkey      False   \n",
       "\n",
       "                                           permalink  \n",
       "2  /r/artificial/comments/j5q0bb/arvr_can_impact_...  \n",
       "3  /r/artificial/comments/j5ph1h/a_reddit_user_wa...  "
      ]
     },
     "execution_count": 11,
     "metadata": {},
     "output_type": "execute_result"
    }
   ],
   "source": [
    "# Display two rows where selftext data is missing.\n",
    "ai_df[ai_df['selftext'].isna()].head(2)"
   ]
  },
  {
   "cell_type": "code",
   "execution_count": 12,
   "metadata": {},
   "outputs": [
    {
     "data": {
      "text/plain": [
       "4788"
      ]
     },
     "execution_count": 12,
     "metadata": {},
     "output_type": "execute_result"
    }
   ],
   "source": [
    "# Display the count of [removed] posts in the DS dataframe.\n",
    "len(ds_df[ds_df['selftext'] == '[removed]'])"
   ]
  },
  {
   "cell_type": "code",
   "execution_count": 13,
   "metadata": {},
   "outputs": [
    {
     "data": {
      "text/plain": [
       "120"
      ]
     },
     "execution_count": 13,
     "metadata": {},
     "output_type": "execute_result"
    }
   ],
   "source": [
    "# Display the count of [deleted] posts in the DS dataframe.\n",
    "len(ds_df[ds_df['selftext'] == '[deleted]'])"
   ]
  },
  {
   "cell_type": "code",
   "execution_count": 14,
   "metadata": {},
   "outputs": [
    {
     "data": {
      "text/plain": [
       "911"
      ]
     },
     "execution_count": 14,
     "metadata": {},
     "output_type": "execute_result"
    }
   ],
   "source": [
    "# Display the count of [removed] posts in the AI dataframe.\n",
    "len(ai_df[ai_df['selftext'] == '[removed]'])"
   ]
  },
  {
   "cell_type": "code",
   "execution_count": 15,
   "metadata": {},
   "outputs": [
    {
     "data": {
      "text/plain": [
       "53"
      ]
     },
     "execution_count": 15,
     "metadata": {},
     "output_type": "execute_result"
    }
   ],
   "source": [
    "# Display the count of [deleted] posts in the AI dataframe.\n",
    "len(ai_df[ai_df['selftext'] == '[deleted]'])"
   ]
  },
  {
   "cell_type": "markdown",
   "metadata": {},
   "source": [
    "# Cleaning the Data"
   ]
  },
  {
   "cell_type": "markdown",
   "metadata": {},
   "source": [
    "## Address [removed] and [deleted] posts\n",
    "#### Drop [removed] and [deleted] posts so they are not factored into the NLP model as a signal"
   ]
  },
  {
   "cell_type": "code",
   "execution_count": 16,
   "metadata": {},
   "outputs": [],
   "source": [
    "# Drop the [removed] posts in the data science dataframe.\n",
    "ds_df = ds_df.drop(ds_df[ds_df['selftext'] == '[removed]'].index)"
   ]
  },
  {
   "cell_type": "code",
   "execution_count": 17,
   "metadata": {},
   "outputs": [],
   "source": [
    "# Drop the [deleted] posts in the data science dataframe.\n",
    "ds_df = ds_df.drop(ds_df[ds_df['selftext'] == '[deleted]'].index)"
   ]
  },
  {
   "cell_type": "code",
   "execution_count": 18,
   "metadata": {},
   "outputs": [],
   "source": [
    "# Drop the [removed] posts in the machine learning dataframe.\n",
    "ai_df = ai_df.drop(ai_df[ai_df['selftext'] == '[removed]'].index)"
   ]
  },
  {
   "cell_type": "code",
   "execution_count": 19,
   "metadata": {},
   "outputs": [],
   "source": [
    "# Drop the [deleted] posts in the data science dataframe.\n",
    "ai_df = ai_df.drop(ai_df[ai_df['selftext'] == '[deleted]'].index)"
   ]
  },
  {
   "cell_type": "markdown",
   "metadata": {},
   "source": [
    "## Address NaN text values"
   ]
  },
  {
   "cell_type": "code",
   "execution_count": 20,
   "metadata": {},
   "outputs": [],
   "source": [
    "# Drop the rows with missing post text in the DS dataframe.\n",
    "ds_df = ds_df.drop(ds_df[ds_df['selftext'].isna()].index)"
   ]
  },
  {
   "cell_type": "code",
   "execution_count": 21,
   "metadata": {},
   "outputs": [],
   "source": [
    "# Drop the rows with missing post text in the AI dataframe.\n",
    "ai_df = ai_df.drop(ai_df[ai_df['selftext'].isna()].index)"
   ]
  },
  {
   "cell_type": "code",
   "execution_count": 22,
   "metadata": {},
   "outputs": [
    {
     "data": {
      "text/plain": [
       "(18733, 7)"
      ]
     },
     "execution_count": 22,
     "metadata": {},
     "output_type": "execute_result"
    }
   ],
   "source": [
    "# Display the shape of the DS dataframe.\n",
    "ds_df.shape"
   ]
  },
  {
   "cell_type": "code",
   "execution_count": 23,
   "metadata": {},
   "outputs": [
    {
     "data": {
      "text/plain": [
       "(4458, 7)"
      ]
     },
     "execution_count": 23,
     "metadata": {},
     "output_type": "execute_result"
    }
   ],
   "source": [
    "# Display the shape of the AI dataframe.\n",
    "ai_df.shape"
   ]
  },
  {
   "cell_type": "code",
   "execution_count": 24,
   "metadata": {},
   "outputs": [],
   "source": [
    "# Drop DS posts before a certain timestamp.\n",
    "ds_df = ds_df.drop(ds_df[ds_df['created_utc'] < 1586000000].index)"
   ]
  },
  {
   "cell_type": "code",
   "execution_count": 25,
   "metadata": {},
   "outputs": [
    {
     "data": {
      "text/plain": [
       "(4973, 7)"
      ]
     },
     "execution_count": 25,
     "metadata": {},
     "output_type": "execute_result"
    }
   ],
   "source": [
    "# Display the shape of the DS dataframe.\n",
    "ds_df.shape"
   ]
  },
  {
   "cell_type": "markdown",
   "metadata": {},
   "source": [
    "#### The data science dataframe has 4,973 entries. The artificial intelligence dataframe has 4,458 entries."
   ]
  },
  {
   "cell_type": "markdown",
   "metadata": {},
   "source": [
    "## Feature engeering"
   ]
  },
  {
   "cell_type": "code",
   "execution_count": 26,
   "metadata": {},
   "outputs": [],
   "source": [
    "# Create a new column based on all text in both dataframes.\n",
    "ai_df['all_text'] = ai_df['title'] + ' ' + ai_df['selftext']\n",
    "ds_df['all_text'] = ds_df['title'] + ' ' + ds_df['selftext']"
   ]
  },
  {
   "cell_type": "code",
   "execution_count": 27,
   "metadata": {},
   "outputs": [],
   "source": [
    "# Create target columns.\n",
    "# Assign 1 to data science, 0 to artificial intelligence.\n",
    "ds_df['data_science'] = 1\n",
    "ai_df['data_science'] = 0"
   ]
  },
  {
   "cell_type": "markdown",
   "metadata": {},
   "source": [
    "## Concatenate the dataframes"
   ]
  },
  {
   "cell_type": "code",
   "execution_count": 28,
   "metadata": {},
   "outputs": [],
   "source": [
    "# Concatenate the dataframes \n",
    "df = pd.concat([ai_df, ds_df])"
   ]
  },
  {
   "cell_type": "code",
   "execution_count": 29,
   "metadata": {},
   "outputs": [
    {
     "data": {
      "text/html": [
       "<div>\n",
       "<style scoped>\n",
       "    .dataframe tbody tr th:only-of-type {\n",
       "        vertical-align: middle;\n",
       "    }\n",
       "\n",
       "    .dataframe tbody tr th {\n",
       "        vertical-align: top;\n",
       "    }\n",
       "\n",
       "    .dataframe thead th {\n",
       "        text-align: right;\n",
       "    }\n",
       "</style>\n",
       "<table border=\"1\" class=\"dataframe\">\n",
       "  <thead>\n",
       "    <tr style=\"text-align: right;\">\n",
       "      <th></th>\n",
       "      <th>title</th>\n",
       "      <th>created_utc</th>\n",
       "      <th>selftext</th>\n",
       "      <th>subreddit</th>\n",
       "      <th>author</th>\n",
       "      <th>media_only</th>\n",
       "      <th>permalink</th>\n",
       "      <th>all_text</th>\n",
       "      <th>data_science</th>\n",
       "    </tr>\n",
       "  </thead>\n",
       "  <tbody>\n",
       "    <tr>\n",
       "      <th>0</th>\n",
       "      <td>Noob question about the limitations of AI</td>\n",
       "      <td>1601948655</td>\n",
       "      <td>Hello, so my friends and I were talking about ...</td>\n",
       "      <td>artificial</td>\n",
       "      <td>HaeL756</td>\n",
       "      <td>False</td>\n",
       "      <td>/r/artificial/comments/j5wg5t/noob_question_ab...</td>\n",
       "      <td>Noob question about the limitations of AI Hell...</td>\n",
       "      <td>0</td>\n",
       "    </tr>\n",
       "    <tr>\n",
       "      <th>1</th>\n",
       "      <td>[R] Google AI Helps Sign Language ‘Take the Fl...</td>\n",
       "      <td>1601930050</td>\n",
       "      <td>To enable signers to “take the floor” in such ...</td>\n",
       "      <td>artificial</td>\n",
       "      <td>Yuqing7</td>\n",
       "      <td>False</td>\n",
       "      <td>/r/artificial/comments/j5raur/r_google_ai_help...</td>\n",
       "      <td>[R] Google AI Helps Sign Language ‘Take the Fl...</td>\n",
       "      <td>0</td>\n",
       "    </tr>\n",
       "  </tbody>\n",
       "</table>\n",
       "</div>"
      ],
      "text/plain": [
       "                                               title  created_utc  \\\n",
       "0          Noob question about the limitations of AI   1601948655   \n",
       "1  [R] Google AI Helps Sign Language ‘Take the Fl...   1601930050   \n",
       "\n",
       "                                            selftext   subreddit   author  \\\n",
       "0  Hello, so my friends and I were talking about ...  artificial  HaeL756   \n",
       "1  To enable signers to “take the floor” in such ...  artificial  Yuqing7   \n",
       "\n",
       "  media_only                                          permalink  \\\n",
       "0      False  /r/artificial/comments/j5wg5t/noob_question_ab...   \n",
       "1      False  /r/artificial/comments/j5raur/r_google_ai_help...   \n",
       "\n",
       "                                            all_text  data_science  \n",
       "0  Noob question about the limitations of AI Hell...             0  \n",
       "1  [R] Google AI Helps Sign Language ‘Take the Fl...             0  "
      ]
     },
     "execution_count": 29,
     "metadata": {},
     "output_type": "execute_result"
    }
   ],
   "source": [
    "# Display the first few rows of the datafram. \n",
    "df.head(2)"
   ]
  },
  {
   "cell_type": "code",
   "execution_count": 30,
   "metadata": {},
   "outputs": [],
   "source": [
    "# Export the dataframe to csv.\n",
    "df.to_csv('../data/combined.csv', index=False)"
   ]
  },
  {
   "cell_type": "markdown",
   "metadata": {},
   "source": [
    "# Cleaning the Text"
   ]
  },
  {
   "cell_type": "markdown",
   "metadata": {},
   "source": [
    "## Use regex to clean the text"
   ]
  },
  {
   "cell_type": "code",
   "execution_count": 31,
   "metadata": {},
   "outputs": [],
   "source": [
    "# Define a function to clean the text.\n",
    "# https://stackoverflow.com/questions/11331982/how-to-remove-any-url-within-a-string-in-python\n",
    "\n",
    "def clean_text(text):\n",
    "    \n",
    "    # Use regex to replace URLs with empty strings.   \n",
    "    text = re.sub(r\"\\w+:\\/{2}[\\d\\w-]+(\\.[\\d\\w-]+)*(?:(?:\\/[^\\s/]*))*\", ' ', text)\n",
    "    \n",
    "    # Use regex to replace post title tags with empty strings.\n",
    "    text = re.sub(r\"\\W*(\\[D\\])|(\\[P\\])|(\\[R\\])|(\\[N\\])\\W*\", '', text)\n",
    "    \n",
    "    # Use regex to replace post title tags with empty strings, ignoring case.\n",
    "    text = re.sub(r\"\\W*(\\[Advice\\])|(\\[Repost\\])|(\\[UPDATE\\])\\W*\", '', text, flags=re.I)\n",
    "\n",
    "    # Use regex to replace post title tags with empty strings, ignoring case.\n",
    "    text = re.sub(r\"\\W*(\\[Discussion\\])|(\\[News\\])|(\\[PROJECT\\])\\W*\", '', text, flags=re.I)\n",
    "    \n",
    "    # Use regex to remove special characters.\n",
    "    text = re.sub(r\"[#@\\?\\¿\\.$%_\\[\\]()+-:*\\\",'-]\", ' ', text)\n",
    "    \n",
    "    # Use regex to replace any tabs or line breaks with empty strings.\n",
    "    text = re.sub(r\"\\s+\", ' ', text)\n",
    "    \n",
    "    return text"
   ]
  },
  {
   "cell_type": "code",
   "execution_count": 32,
   "metadata": {},
   "outputs": [],
   "source": [
    "# Apply the text cleaning function to the 'all_text' column.\n",
    "df['all_text'] = df['all_text'].apply(clean_text)"
   ]
  },
  {
   "cell_type": "code",
   "execution_count": 33,
   "metadata": {},
   "outputs": [],
   "source": [
    "# Export the final dataframe to csv.\n",
    "df.to_csv('../data/combined_cleaned_ai_ds.csv', index=False)"
   ]
  },
  {
   "cell_type": "code",
   "execution_count": 34,
   "metadata": {},
   "outputs": [],
   "source": [
    "# Apply the text cleaning function to the AI dataframe.\n",
    "ai_df['all_text'] = ai_df['all_text'].apply(clean_text)"
   ]
  },
  {
   "cell_type": "code",
   "execution_count": 35,
   "metadata": {},
   "outputs": [],
   "source": [
    "# Export the cleaned AI dataframe to csv.\n",
    "ai_df.to_csv('../data/artificial_cleaned.csv', index=False)"
   ]
  },
  {
   "cell_type": "code",
   "execution_count": 36,
   "metadata": {},
   "outputs": [],
   "source": [
    "# Apply the text cleaning function to the DS dataframe.\n",
    "ds_df['all_text'] = ds_df['all_text'].apply(clean_text)"
   ]
  },
  {
   "cell_type": "code",
   "execution_count": 37,
   "metadata": {},
   "outputs": [],
   "source": [
    "# Export the cleaned AI dataframe to csv.\n",
    "ds_df.to_csv('../data/datascience_cleaned.csv', index=False)"
   ]
  }
 ],
 "metadata": {
  "kernelspec": {
   "display_name": "Python 3",
   "language": "python",
   "name": "python3"
  },
  "language_info": {
   "codemirror_mode": {
    "name": "ipython",
    "version": 3
   },
   "file_extension": ".py",
   "mimetype": "text/x-python",
   "name": "python",
   "nbconvert_exporter": "python",
   "pygments_lexer": "ipython3",
   "version": "3.7.9"
  }
 },
 "nbformat": 4,
 "nbformat_minor": 4
}
